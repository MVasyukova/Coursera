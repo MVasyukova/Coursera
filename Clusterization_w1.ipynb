{
  "nbformat": 4,
  "nbformat_minor": 0,
  "metadata": {
    "colab": {
      "name": "Untitled0.ipynb",
      "provenance": [],
      "toc_visible": true
    },
    "kernelspec": {
      "name": "python3",
      "display_name": "Python 3"
    }
  },
  "cells": [
    {
      "cell_type": "code",
      "metadata": {
        "id": "_-CsVPuPKJLC",
        "colab_type": "code",
        "colab": {}
      },
      "source": [
        "import csv\n",
        "import pandas as pd \n",
        "from sklearn.cluster import MeanShift\n",
        "from collections import Counter\n",
        "from scipy.spatial.distance import euclidean\n",
        "from sklearn.cluster import MeanShift"
      ],
      "execution_count": 0,
      "outputs": []
    },
    {
      "cell_type": "code",
      "metadata": {
        "id": "K8x2VQmOCIyz",
        "colab_type": "code",
        "colab": {
          "base_uri": "https://localhost:8080/",
          "height": 71
        },
        "outputId": "45803e03-832d-4a61-abab-6d56a192539f"
      },
      "source": [
        "with open(\"checkins.dat\", 'r', encoding='utf-8') as f:\n",
        "  data = pd.read_csv(f, sep='|', header=0, \n",
        "                     names=['id', 'user_id', 'venue_id', 'latitude', 'longitude', 'created_at'])"
      ],
      "execution_count": 4,
      "outputs": [
        {
          "output_type": "stream",
          "text": [
            "/usr/local/lib/python3.6/dist-packages/IPython/core/interactiveshell.py:2718: DtypeWarning: Columns (0) have mixed types. Specify dtype option on import or set low_memory=False.\n",
            "  interactivity=interactivity, compiler=compiler, result=result)\n"
          ],
          "name": "stderr"
        }
      ]
    },
    {
      "cell_type": "code",
      "metadata": {
        "id": "zC3cbTBQQRwB",
        "colab_type": "code",
        "colab": {}
      },
      "source": [
        "data = data[['latitude', 'longitude']]\n",
        "refactored = pd.DataFrame(columns=['latitude', 'longitude'])"
      ],
      "execution_count": 0,
      "outputs": []
    },
    {
      "cell_type": "code",
      "metadata": {
        "id": "rmo1OTIPXzFy",
        "colab_type": "code",
        "colab": {}
      },
      "source": [
        "j = 0\n",
        "for value in data.values:\n",
        "  if not value[0].isspace():\n",
        "    refactored.loc[j]  = [float(val.replace(' ', '')) for val in value]\n",
        "    j += 1\n",
        "  if j > 100000:\n",
        "    break"
      ],
      "execution_count": 0,
      "outputs": []
    },
    {
      "cell_type": "code",
      "metadata": {
        "id": "i_-cB7lwiTII",
        "colab_type": "code",
        "colab": {}
      },
      "source": [
        "model = MeanShift(bandwidth=0.1)"
      ],
      "execution_count": 0,
      "outputs": []
    },
    {
      "cell_type": "code",
      "metadata": {
        "id": "70f6piNGie02",
        "colab_type": "code",
        "colab": {}
      },
      "source": [
        "labels = model.fit_predict(refactored)"
      ],
      "execution_count": 0,
      "outputs": []
    },
    {
      "cell_type": "code",
      "metadata": {
        "id": "ixwpHrlxmppx",
        "colab_type": "code",
        "colab": {}
      },
      "source": [
        "cnt = Counter(labels)"
      ],
      "execution_count": 0,
      "outputs": []
    },
    {
      "cell_type": "code",
      "metadata": {
        "id": "8TaVW6wxmwru",
        "colab_type": "code",
        "colab": {}
      },
      "source": [
        "new_cnt = {}\n",
        "for cluster, points in cnt.items():\n",
        "  if points > 15:\n",
        "    new_cnt[cluster] = points"
      ],
      "execution_count": 0,
      "outputs": []
    },
    {
      "cell_type": "code",
      "metadata": {
        "id": "wvIxRq4_mxwe",
        "colab_type": "code",
        "colab": {
          "base_uri": "https://localhost:8080/",
          "height": 51
        },
        "outputId": "bf6ecb0a-a324-4370-9886-677126cd17f9"
      },
      "source": [
        "print(len(cnt))\n",
        "print(len(new_cnt))"
      ],
      "execution_count": 31,
      "outputs": [
        {
          "output_type": "stream",
          "text": [
            "3231\n",
            "592\n"
          ],
          "name": "stdout"
        }
      ]
    },
    {
      "cell_type": "code",
      "metadata": {
        "id": "CLWWNBsDocoz",
        "colab_type": "code",
        "colab": {
          "base_uri": "https://localhost:8080/",
          "height": 34
        },
        "outputId": "ef392553-e7d3-404e-e7fd-64b9245b1d14"
      },
      "source": [
        "len(model.cluster_centers_) # centers of clusters"
      ],
      "execution_count": 34,
      "outputs": [
        {
          "output_type": "execute_result",
          "data": {
            "text/plain": [
              "3231"
            ]
          },
          "metadata": {
            "tags": []
          },
          "execution_count": 34
        }
      ]
    },
    {
      "cell_type": "code",
      "metadata": {
        "id": "08R2DxWKpEYM",
        "colab_type": "code",
        "colab": {}
      },
      "source": [
        "new_cnt # labels of clusters with more then 15 points in it {label: number_of_points}"
      ],
      "execution_count": 0,
      "outputs": []
    },
    {
      "cell_type": "code",
      "metadata": {
        "id": "hNeTzIEArR5z",
        "colab_type": "code",
        "colab": {}
      },
      "source": [
        "offices = pd.DataFrame([[33.751277, -118.188740], [25.867736, -80.324116], [51.503016, -0.075479], \n",
        "                     [52.378894, 4.885084], [39.366487, 117.036146], [-33.868457, 151.205134]],\n",
        "                     columns=['latitude', 'longitude'])"
      ],
      "execution_count": 0,
      "outputs": []
    },
    {
      "cell_type": "code",
      "metadata": {
        "id": "zf0HEISMtxZS",
        "colab_type": "code",
        "colab": {
          "base_uri": "https://localhost:8080/",
          "height": 235
        },
        "outputId": "16f61112-cdee-4fbe-99f2-650faceae42d"
      },
      "source": [
        "offices"
      ],
      "execution_count": 59,
      "outputs": [
        {
          "output_type": "execute_result",
          "data": {
            "text/html": [
              "<div>\n",
              "<style scoped>\n",
              "    .dataframe tbody tr th:only-of-type {\n",
              "        vertical-align: middle;\n",
              "    }\n",
              "\n",
              "    .dataframe tbody tr th {\n",
              "        vertical-align: top;\n",
              "    }\n",
              "\n",
              "    .dataframe thead th {\n",
              "        text-align: right;\n",
              "    }\n",
              "</style>\n",
              "<table border=\"1\" class=\"dataframe\">\n",
              "  <thead>\n",
              "    <tr style=\"text-align: right;\">\n",
              "      <th></th>\n",
              "      <th>latitude</th>\n",
              "      <th>longitude</th>\n",
              "    </tr>\n",
              "  </thead>\n",
              "  <tbody>\n",
              "    <tr>\n",
              "      <th>0</th>\n",
              "      <td>33.751277</td>\n",
              "      <td>-118.188740</td>\n",
              "    </tr>\n",
              "    <tr>\n",
              "      <th>1</th>\n",
              "      <td>25.867736</td>\n",
              "      <td>-80.324116</td>\n",
              "    </tr>\n",
              "    <tr>\n",
              "      <th>2</th>\n",
              "      <td>51.503016</td>\n",
              "      <td>-0.075479</td>\n",
              "    </tr>\n",
              "    <tr>\n",
              "      <th>3</th>\n",
              "      <td>52.378894</td>\n",
              "      <td>4.885084</td>\n",
              "    </tr>\n",
              "    <tr>\n",
              "      <th>4</th>\n",
              "      <td>39.366487</td>\n",
              "      <td>117.036146</td>\n",
              "    </tr>\n",
              "    <tr>\n",
              "      <th>5</th>\n",
              "      <td>-33.868457</td>\n",
              "      <td>151.205134</td>\n",
              "    </tr>\n",
              "  </tbody>\n",
              "</table>\n",
              "</div>"
            ],
            "text/plain": [
              "    latitude   longitude\n",
              "0  33.751277 -118.188740\n",
              "1  25.867736  -80.324116\n",
              "2  51.503016   -0.075479\n",
              "3  52.378894    4.885084\n",
              "4  39.366487  117.036146\n",
              "5 -33.868457  151.205134"
            ]
          },
          "metadata": {
            "tags": []
          },
          "execution_count": 59
        }
      ]
    },
    {
      "cell_type": "code",
      "metadata": {
        "id": "whwpCIgHuATX",
        "colab_type": "code",
        "colab": {}
      },
      "source": [
        "mapping = {}\n",
        "for i, office_coord in enumerate(offices.values):\n",
        "  label = model.predict([office_coord])\n",
        "  distance = euclidean(office_coord, model.cluster_centers_[label])\n",
        "  mapping[i] = (label, distance)"
      ],
      "execution_count": 0,
      "outputs": []
    },
    {
      "cell_type": "code",
      "metadata": {
        "id": "5gHC9-QrvgWe",
        "colab_type": "code",
        "colab": {
          "base_uri": "https://localhost:8080/",
          "height": 119
        },
        "outputId": "41eab32d-3755-4c21-d46b-076344deefd2"
      },
      "source": [
        "mapping"
      ],
      "execution_count": 69,
      "outputs": [
        {
          "output_type": "execute_result",
          "data": {
            "text/plain": [
              "{0: (array([51]), 0.07084773242717576),\n",
              " 1: (array([419]), 0.02267406615838222),\n",
              " 2: (array([58]), 0.05005829482278787),\n",
              " 3: (array([370]), 0.009353316185992226),\n",
              " 4: (array([1980]), 0.30330785270578964),\n",
              " 5: (array([420]), 0.007834758163107856)}"
            ]
          },
          "metadata": {
            "tags": []
          },
          "execution_count": 69
        }
      ]
    },
    {
      "cell_type": "code",
      "metadata": {
        "id": "1ep-v2f1xWZf",
        "colab_type": "code",
        "colab": {
          "base_uri": "https://localhost:8080/",
          "height": 34
        },
        "outputId": "c93f0c2e-0b5a-43c5-e363-6d3af7f3cf37"
      },
      "source": [
        "model.cluster_centers_[370]"
      ],
      "execution_count": 70,
      "outputs": [
        {
          "output_type": "execute_result",
          "data": {
            "text/plain": [
              "array([52.37296399,  4.89231722])"
            ]
          },
          "metadata": {
            "tags": []
          },
          "execution_count": 70
        }
      ]
    },
    {
      "cell_type": "markdown",
      "metadata": {
        "id": "ELTf44k-y4iL",
        "colab_type": "text"
      },
      "source": [
        ""
      ]
    },
    {
      "cell_type": "code",
      "metadata": {
        "id": "jJ_73c6bxwoS",
        "colab_type": "code",
        "colab": {}
      },
      "source": [
        "with open('answer.txt', 'w') as f:\n",
        "  f.write('52.37296399 4.89231722')"
      ],
      "execution_count": 0,
      "outputs": []
    },
    {
      "cell_type": "code",
      "metadata": {
        "id": "7okjrpfByCuU",
        "colab_type": "code",
        "colab": {}
      },
      "source": [
        ""
      ],
      "execution_count": 0,
      "outputs": []
    }
  ]
}